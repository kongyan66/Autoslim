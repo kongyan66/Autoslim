{
  "nbformat": 4,
  "nbformat_minor": 0,
  "metadata": {
    "accelerator": "GPU",
    "colab": {
      "name": "Kongyan.ipynb",
      "provenance": [],
      "collapsed_sections": [],
      "mount_file_id": "1KyP9POFGQflBTgjGT8psKwvhZBj0geoa",
      "authorship_tag": "ABX9TyP0Zoz7HbvNCKdQI+diFE5A",
      "include_colab_link": true
    },
    "kernelspec": {
      "display_name": "Python 3",
      "name": "python3"
    }
  },
  "cells": [
    {
      "cell_type": "markdown",
      "metadata": {
        "id": "view-in-github",
        "colab_type": "text"
      },
      "source": [
        "<a href=\"https://colab.research.google.com/github/kongyan66/Autoslim/blob/main/Kongyan.ipynb\" target=\"_parent\"><img src=\"https://colab.research.google.com/assets/colab-badge.svg\" alt=\"Open In Colab\"/></a>"
      ]
    },
    {
      "cell_type": "markdown",
      "metadata": {
        "id": "SPdk51g-1qpJ"
      },
      "source": [
        "初始化"
      ]
    },
    {
      "cell_type": "code",
      "metadata": {
        "id": "wfybXAMF1fEv"
      },
      "source": [
        "import os\r\n",
        "os.chdir(\"/content/drive/MyDrive/ColabNotebooks/keras_frcnn\")\r\n",
        "#os.chdir(\"/content/drive/MyDrive/ColabNotebooks/retinanet-pytorch\")\r\n",
        "#os.chdir(\"/content/drive/Mydrive/MyColab/retinanet-keras-master\")\r\n",
        "#os.chdir(\"/content/drive/MyDrive/ColabNotebooks/BBAVectors-Oriented\")"
      ],
      "execution_count": null,
      "outputs": []
    },
    {
      "cell_type": "markdown",
      "metadata": {
        "id": "3shArOY8NQKN"
      },
      "source": [
        "文件解压"
      ]
    },
    {
      "cell_type": "code",
      "metadata": {
        "id": "KKm9jQoqvqR2",
        "colab": {
          "base_uri": "https://localhost:8080/"
        },
        "outputId": "c15a22db-161f-4cf8-fcf5-c62087abd026"
      },
      "source": [
        "!git clone https://github.com/jinfagang/keras_frcnn.git"
      ],
      "execution_count": null,
      "outputs": [
        {
          "output_type": "stream",
          "text": [
            "Cloning into 'keras_frcnn'...\n",
            "remote: Enumerating objects: 12, done.\u001b[K\n",
            "remote: Counting objects: 100% (12/12), done.\u001b[K\n",
            "remote: Compressing objects: 100% (12/12), done.\u001b[K\n",
            "remote: Total 172 (delta 7), reused 0 (delta 0), pack-reused 160\u001b[K\n",
            "Receiving objects: 100% (172/172), 37.84 MiB | 11.91 MiB/s, done.\n",
            "Resolving deltas: 100% (56/56), done.\n",
            "Checking out files: 100% (65/65), done.\n"
          ],
          "name": "stdout"
        }
      ]
    },
    {
      "cell_type": "code",
      "metadata": {
        "id": "fzUqnCqw-EHP"
      },
      "source": [
        "https://github.com/jinfagang/keras_frcnn"
      ],
      "execution_count": null,
      "outputs": []
    },
    {
      "cell_type": "code",
      "metadata": {
        "colab": {
          "base_uri": "https://localhost:8080/"
        },
        "id": "fSy_l21Mgawc",
        "outputId": "73939ff9-759f-40e8-88c6-a265457b4712"
      },
      "source": [
        "pip install tensorboardX"
      ],
      "execution_count": null,
      "outputs": [
        {
          "output_type": "stream",
          "text": [
            "Collecting tensorboardX\n",
            "\u001b[?25l  Downloading https://files.pythonhosted.org/packages/af/0c/4f41bcd45db376e6fe5c619c01100e9b7531c55791b7244815bac6eac32c/tensorboardX-2.1-py2.py3-none-any.whl (308kB)\n",
            "\r\u001b[K     |█                               | 10kB 22.1MB/s eta 0:00:01\r\u001b[K     |██▏                             | 20kB 29.9MB/s eta 0:00:01\r\u001b[K     |███▏                            | 30kB 24.4MB/s eta 0:00:01\r\u001b[K     |████▎                           | 40kB 27.9MB/s eta 0:00:01\r\u001b[K     |█████▎                          | 51kB 26.7MB/s eta 0:00:01\r\u001b[K     |██████▍                         | 61kB 29.4MB/s eta 0:00:01\r\u001b[K     |███████▍                        | 71kB 19.1MB/s eta 0:00:01\r\u001b[K     |████████▌                       | 81kB 20.4MB/s eta 0:00:01\r\u001b[K     |█████████▌                      | 92kB 19.2MB/s eta 0:00:01\r\u001b[K     |██████████▋                     | 102kB 19.2MB/s eta 0:00:01\r\u001b[K     |███████████▊                    | 112kB 19.2MB/s eta 0:00:01\r\u001b[K     |████████████▊                   | 122kB 19.2MB/s eta 0:00:01\r\u001b[K     |█████████████▉                  | 133kB 19.2MB/s eta 0:00:01\r\u001b[K     |██████████████▉                 | 143kB 19.2MB/s eta 0:00:01\r\u001b[K     |████████████████                | 153kB 19.2MB/s eta 0:00:01\r\u001b[K     |█████████████████               | 163kB 19.2MB/s eta 0:00:01\r\u001b[K     |██████████████████              | 174kB 19.2MB/s eta 0:00:01\r\u001b[K     |███████████████████             | 184kB 19.2MB/s eta 0:00:01\r\u001b[K     |████████████████████▏           | 194kB 19.2MB/s eta 0:00:01\r\u001b[K     |█████████████████████▎          | 204kB 19.2MB/s eta 0:00:01\r\u001b[K     |██████████████████████▎         | 215kB 19.2MB/s eta 0:00:01\r\u001b[K     |███████████████████████▍        | 225kB 19.2MB/s eta 0:00:01\r\u001b[K     |████████████████████████▍       | 235kB 19.2MB/s eta 0:00:01\r\u001b[K     |█████████████████████████▌      | 245kB 19.2MB/s eta 0:00:01\r\u001b[K     |██████████████████████████▌     | 256kB 19.2MB/s eta 0:00:01\r\u001b[K     |███████████████████████████▋    | 266kB 19.2MB/s eta 0:00:01\r\u001b[K     |████████████████████████████▋   | 276kB 19.2MB/s eta 0:00:01\r\u001b[K     |█████████████████████████████▊  | 286kB 19.2MB/s eta 0:00:01\r\u001b[K     |██████████████████████████████▊ | 296kB 19.2MB/s eta 0:00:01\r\u001b[K     |███████████████████████████████▉| 307kB 19.2MB/s eta 0:00:01\r\u001b[K     |████████████████████████████████| 317kB 19.2MB/s \n",
            "\u001b[?25hRequirement already satisfied: six in /usr/local/lib/python3.7/dist-packages (from tensorboardX) (1.15.0)\n",
            "Requirement already satisfied: numpy in /usr/local/lib/python3.7/dist-packages (from tensorboardX) (1.19.5)\n",
            "Requirement already satisfied: protobuf>=3.8.0 in /usr/local/lib/python3.7/dist-packages (from tensorboardX) (3.12.4)\n",
            "Requirement already satisfied: setuptools in /usr/local/lib/python3.7/dist-packages (from protobuf>=3.8.0->tensorboardX) (54.0.0)\n",
            "Installing collected packages: tensorboardX\n",
            "Successfully installed tensorboardX-2.1\n"
          ],
          "name": "stdout"
        }
      ]
    },
    {
      "cell_type": "code",
      "metadata": {
        "id": "T4Yejhtp1sfr",
        "colab": {
          "base_uri": "https://localhost:8080/"
        },
        "outputId": "89efe153-60b1-4c9e-a205-cc1964a7fbe3"
      },
      "source": [
        "!pip uninstall tensorflow\r\n",
        "!pip install tensorflow-gpu==1.5.0 keras==2.0.8"
      ],
      "execution_count": null,
      "outputs": [
        {
          "output_type": "stream",
          "text": [
            "Uninstalling tensorflow-2.4.1:\n",
            "  Would remove:\n",
            "    /usr/local/bin/estimator_ckpt_converter\n",
            "    /usr/local/bin/import_pb_to_tensorboard\n",
            "    /usr/local/bin/saved_model_cli\n",
            "    /usr/local/bin/tensorboard\n",
            "    /usr/local/bin/tf_upgrade_v2\n",
            "    /usr/local/bin/tflite_convert\n",
            "    /usr/local/bin/toco\n",
            "    /usr/local/bin/toco_from_protos\n",
            "    /usr/local/lib/python3.7/dist-packages/tensorflow-2.4.1.dist-info/*\n",
            "    /usr/local/lib/python3.7/dist-packages/tensorflow/*\n",
            "Proceed (y/n)? y\n",
            "  Successfully uninstalled tensorflow-2.4.1\n",
            "\u001b[31mERROR: Could not find a version that satisfies the requirement tensorflow-gpu==1.5.0 (from versions: 1.13.1, 1.13.2, 1.14.0, 1.15.0rc0, 1.15.0rc1, 1.15.0rc2, 1.15.0rc3, 1.15.0, 1.15.2, 1.15.3, 1.15.4, 1.15.5, 2.0.0a0, 2.0.0b0, 2.0.0b1, 2.0.0rc0, 2.0.0rc1, 2.0.0rc2, 2.0.0, 2.0.1, 2.0.2, 2.0.3, 2.0.4, 2.1.0rc0, 2.1.0rc1, 2.1.0rc2, 2.1.0, 2.1.1, 2.1.2, 2.1.3, 2.2.0rc0, 2.2.0rc1, 2.2.0rc2, 2.2.0rc3, 2.2.0rc4, 2.2.0, 2.2.1, 2.2.2, 2.3.0rc0, 2.3.0rc1, 2.3.0rc2, 2.3.0, 2.3.1, 2.3.2, 2.4.0rc0, 2.4.0rc1, 2.4.0rc2, 2.4.0rc3, 2.4.0rc4, 2.4.0, 2.4.1)\u001b[0m\n",
            "\u001b[31mERROR: No matching distribution found for tensorflow-gpu==1.5.0\u001b[0m\n"
          ],
          "name": "stdout"
        }
      ]
    },
    {
      "cell_type": "code",
      "metadata": {
        "id": "sY-R-LprYAwP"
      },
      "source": [
        "!git clone https://github.com/bubbliiiing/retinanet-pytorch.git"
      ],
      "execution_count": null,
      "outputs": []
    },
    {
      "cell_type": "markdown",
      "metadata": {
        "id": "dmojLCrA10sx"
      },
      "source": [
        "测试"
      ]
    },
    {
      "cell_type": "code",
      "metadata": {
        "id": "SJcU4nOt14fS"
      },
      "source": [
        "!python ./nets/resnet.py \r\n"
      ],
      "execution_count": null,
      "outputs": []
    },
    {
      "cell_type": "code",
      "metadata": {
        "colab": {
          "base_uri": "https://localhost:8080/"
        },
        "id": "5WXXDgGVmSjJ",
        "outputId": "b72d7bea-92e1-43f6-9e91-f5eb3687ceed"
      },
      "source": [
        "!python ./nets/ca.py"
      ],
      "execution_count": null,
      "outputs": [
        {
          "output_type": "stream",
          "text": [
            "torch.Size([1, 256, 128, 128])\n"
          ],
          "name": "stdout"
        }
      ]
    },
    {
      "cell_type": "code",
      "metadata": {
        "colab": {
          "base_uri": "https://localhost:8080/"
        },
        "id": "u7sBLRTYuQr7",
        "outputId": "4d5e696a-93eb-461c-c820-91083a4f8ea4"
      },
      "source": [
        "!python ./nets/sknet.py "
      ],
      "execution_count": null,
      "outputs": [
        {
          "output_type": "stream",
          "text": [
            "torch.Size([10, 1000])\n"
          ],
          "name": "stdout"
        }
      ]
    },
    {
      "cell_type": "code",
      "metadata": {
        "id": "mngiszr3FurL",
        "colab": {
          "base_uri": "https://localhost:8080/"
        },
        "outputId": "f164102f-9e98-4d3d-9011-dc452756f512"
      },
      "source": [
        "!python ./nets/cbam.py "
      ],
      "execution_count": null,
      "outputs": [
        {
          "output_type": "stream",
          "text": [
            "/usr/local/lib/python3.7/dist-packages/torch/nn/functional.py:1639: UserWarning: nn.functional.sigmoid is deprecated. Use torch.sigmoid instead.\n",
            "  warnings.warn(\"nn.functional.sigmoid is deprecated. Use torch.sigmoid instead.\")\n",
            "torch.Size([1, 256, 128, 128])\n"
          ],
          "name": "stdout"
        }
      ]
    },
    {
      "cell_type": "code",
      "metadata": {
        "id": "dkFchUI9FXwg"
      },
      "source": [
        "!python ./nets/retinanet.py"
      ],
      "execution_count": null,
      "outputs": []
    },
    {
      "cell_type": "code",
      "metadata": {
        "id": "1QIX4J5318aA"
      },
      "source": [
        "!python predict.py"
      ],
      "execution_count": null,
      "outputs": []
    },
    {
      "cell_type": "code",
      "metadata": {
        "id": "BsJsRqrXcaOF"
      },
      "source": [
        "!python video.py"
      ],
      "execution_count": null,
      "outputs": []
    },
    {
      "cell_type": "code",
      "metadata": {
        "id": "pHORTxt31_U6"
      },
      "source": [
        "!nvidia-smi"
      ],
      "execution_count": null,
      "outputs": []
    },
    {
      "cell_type": "code",
      "metadata": {
        "id": "45-NAc82bLcd"
      },
      "source": [
        "!pip list"
      ],
      "execution_count": null,
      "outputs": []
    },
    {
      "cell_type": "markdown",
      "metadata": {
        "id": "4xpHQ3X92bxY"
      },
      "source": [
        "训练自己数据"
      ]
    },
    {
      "cell_type": "code",
      "metadata": {
        "id": "-PtrNXeO2c0K"
      },
      "source": [
        "!python ./VOCdevkit/RSOD1/voc2retinanet.py"
      ],
      "execution_count": null,
      "outputs": []
    },
    {
      "cell_type": "code",
      "metadata": {
        "id": "jwmOO_c7eXTv"
      },
      "source": [
        "!python voc_annotation.py"
      ],
      "execution_count": null,
      "outputs": []
    },
    {
      "cell_type": "code",
      "metadata": {
        "id": "fCr6ucd32frh"
      },
      "source": [
        "!python voc_annotation_hrsc.py"
      ],
      "execution_count": null,
      "outputs": []
    },
    {
      "cell_type": "code",
      "metadata": {
        "id": "sh6baJzF2iXp",
        "colab": {
          "base_uri": "https://localhost:8080/"
        },
        "outputId": "08e27a7e-ae4c-4073-8c4e-80b0f2b4ef7f"
      },
      "source": [
        "!python train.py"
      ],
      "execution_count": null,
      "outputs": [
        {
          "output_type": "stream",
          "text": [
            "加载网络\n",
            "加载完成\n",
            "Loading weights into state dict...\n",
            "Finished!\n",
            "./utils/anchors.py:46: TracerWarning: Converting a tensor to a Python boolean might cause the trace to be incorrect. We can't record the data flow of Python values, so this value will be treated as a constant in the future. This means that the trace might not generalize to other inputs!\n",
            "  x = np.arange(0, ws[i]) * stride + stride/2\n",
            "./utils/anchors.py:46: TracerWarning: Converting a tensor to a Python float might cause the trace to be incorrect. We can't record the data flow of Python values, so this value will be treated as a constant in the future. This means that the trace might not generalize to other inputs!\n",
            "  x = np.arange(0, ws[i]) * stride + stride/2\n",
            "./utils/anchors.py:47: TracerWarning: Converting a tensor to a Python boolean might cause the trace to be incorrect. We can't record the data flow of Python values, so this value will be treated as a constant in the future. This means that the trace might not generalize to other inputs!\n",
            "  y = np.arange(0, hs[i]) * stride + stride/2\n",
            "./utils/anchors.py:47: TracerWarning: Converting a tensor to a Python float might cause the trace to be incorrect. We can't record the data flow of Python values, so this value will be treated as a constant in the future. This means that the trace might not generalize to other inputs!\n",
            "  y = np.arange(0, hs[i]) * stride + stride/2\n",
            "./utils/anchors.py:66: TracerWarning: torch.from_numpy results are registered as constants in the trace. You can safely ignore this warning if you use this function to create tensors out of constant variables that would be the same every time you call this function. In any other case, this might cause the trace to be incorrect.\n",
            "  anchor_boxes = torch.from_numpy(anchor_boxes).to(features[0].device)\n",
            "/usr/local/lib/python3.7/dist-packages/torch/jit/_trace.py:940: TracerWarning: Encountering a list at the output of the tracer might cause the trace to be incorrect, this is only valid if the container structure does not change based on the module's inputs. Consider using a constant container instead (e.g. for `list`, use a `tuple` instead. for `dict`, use a `NamedTuple` instead). If you absolutely need this and know the side effects, pass strict=False to trace() to allow this behavior.\n",
            "  _force_outplace,\n",
            "/usr/local/lib/python3.7/dist-packages/torch/utils/data/dataloader.py:477: UserWarning: This DataLoader will create 4 worker processes in total. Our suggested max number of worker in current system is 2, which is smaller than what this DataLoader is going to create. Please be aware that excessive worker creation might get DataLoader running slow or even freeze, lower the worker number to avoid potential slowness/freeze if necessary.\n",
            "  cpuset_checked))\n",
            "Epoch 1/50:   0% 0/57 [00:00<?, ?it/s<class 'dict'>]./utils/dataloader.py:156: VisibleDeprecationWarning: Creating an ndarray from ragged nested sequences (which is a list-or-tuple of lists-or-tuples-or ndarrays with different lengths or shapes) is deprecated. If you meant to do this, you must specify 'dtype=object' when creating the ndarray\n",
            "  bboxes = np.array(bboxes)\n",
            "./utils/dataloader.py:156: VisibleDeprecationWarning: Creating an ndarray from ragged nested sequences (which is a list-or-tuple of lists-or-tuples-or ndarrays with different lengths or shapes) is deprecated. If you meant to do this, you must specify 'dtype=object' when creating the ndarray\n",
            "  bboxes = np.array(bboxes)\n",
            "./utils/dataloader.py:156: VisibleDeprecationWarning: Creating an ndarray from ragged nested sequences (which is a list-or-tuple of lists-or-tuples-or ndarrays with different lengths or shapes) is deprecated. If you meant to do this, you must specify 'dtype=object' when creating the ndarray\n",
            "  bboxes = np.array(bboxes)\n",
            "./utils/dataloader.py:156: VisibleDeprecationWarning: Creating an ndarray from ragged nested sequences (which is a list-or-tuple of lists-or-tuples-or ndarrays with different lengths or shapes) is deprecated. If you meant to do this, you must specify 'dtype=object' when creating the ndarray\n",
            "  bboxes = np.array(bboxes)\n",
            "Epoch 1/50: 100% 57/57 [01:23<00:00,  1.46s/it, lr=1e-5, top1_acc=<__main__.AverageMeter object at 0x7fd6ac146c90>, total_loss=1.03]\n",
            "Start Validation\n",
            "Epoch 1/50:   0% 0/24 [00:00<?, ?it/s<class 'dict'>]./utils/dataloader.py:156: VisibleDeprecationWarning: Creating an ndarray from ragged nested sequences (which is a list-or-tuple of lists-or-tuples-or ndarrays with different lengths or shapes) is deprecated. If you meant to do this, you must specify 'dtype=object' when creating the ndarray\n",
            "  bboxes = np.array(bboxes)\n",
            "./utils/dataloader.py:156: VisibleDeprecationWarning: Creating an ndarray from ragged nested sequences (which is a list-or-tuple of lists-or-tuples-or ndarrays with different lengths or shapes) is deprecated. If you meant to do this, you must specify 'dtype=object' when creating the ndarray\n",
            "  bboxes = np.array(bboxes)\n",
            "./utils/dataloader.py:156: VisibleDeprecationWarning: Creating an ndarray from ragged nested sequences (which is a list-or-tuple of lists-or-tuples-or ndarrays with different lengths or shapes) is deprecated. If you meant to do this, you must specify 'dtype=object' when creating the ndarray\n",
            "  bboxes = np.array(bboxes)\n",
            "./utils/dataloader.py:156: VisibleDeprecationWarning: Creating an ndarray from ragged nested sequences (which is a list-or-tuple of lists-or-tuples-or ndarrays with different lengths or shapes) is deprecated. If you meant to do this, you must specify 'dtype=object' when creating the ndarray\n",
            "  bboxes = np.array(bboxes)\n",
            "Epoch 1/50: 100% 24/24 [00:18<00:00,  1.31it/s, total_loss=0.947]\n",
            "Finish Validation\n",
            "Epoch:1/50\n",
            "train Loss: 1.0093 || Val Loss: 0.9086 \n",
            "Saving state, iter: 1\n",
            "Epoch 2/50:   0% 0/57 [00:00<?, ?it/s<class 'dict'>]./utils/dataloader.py:156: VisibleDeprecationWarning: Creating an ndarray from ragged nested sequences (which is a list-or-tuple of lists-or-tuples-or ndarrays with different lengths or shapes) is deprecated. If you meant to do this, you must specify 'dtype=object' when creating the ndarray\n",
            "  bboxes = np.array(bboxes)\n",
            "./utils/dataloader.py:156: VisibleDeprecationWarning: Creating an ndarray from ragged nested sequences (which is a list-or-tuple of lists-or-tuples-or ndarrays with different lengths or shapes) is deprecated. If you meant to do this, you must specify 'dtype=object' when creating the ndarray\n",
            "  bboxes = np.array(bboxes)\n",
            "./utils/dataloader.py:156: VisibleDeprecationWarning: Creating an ndarray from ragged nested sequences (which is a list-or-tuple of lists-or-tuples-or ndarrays with different lengths or shapes) is deprecated. If you meant to do this, you must specify 'dtype=object' when creating the ndarray\n",
            "  bboxes = np.array(bboxes)\n",
            "./utils/dataloader.py:156: VisibleDeprecationWarning: Creating an ndarray from ragged nested sequences (which is a list-or-tuple of lists-or-tuples-or ndarrays with different lengths or shapes) is deprecated. If you meant to do this, you must specify 'dtype=object' when creating the ndarray\n",
            "  bboxes = np.array(bboxes)\n",
            "Epoch 2/50: 100% 57/57 [01:15<00:00,  1.32s/it, lr=1e-5, top1_acc=<__main__.AverageMeter object at 0x7fd6ac1462d0>, total_loss=0.907]\n",
            "Start Validation\n",
            "Epoch 2/50:   0% 0/24 [00:00<?, ?it/s<class 'dict'>]./utils/dataloader.py:156: VisibleDeprecationWarning: Creating an ndarray from ragged nested sequences (which is a list-or-tuple of lists-or-tuples-or ndarrays with different lengths or shapes) is deprecated. If you meant to do this, you must specify 'dtype=object' when creating the ndarray\n",
            "  bboxes = np.array(bboxes)\n",
            "./utils/dataloader.py:156: VisibleDeprecationWarning: Creating an ndarray from ragged nested sequences (which is a list-or-tuple of lists-or-tuples-or ndarrays with different lengths or shapes) is deprecated. If you meant to do this, you must specify 'dtype=object' when creating the ndarray\n",
            "  bboxes = np.array(bboxes)\n",
            "./utils/dataloader.py:156: VisibleDeprecationWarning: Creating an ndarray from ragged nested sequences (which is a list-or-tuple of lists-or-tuples-or ndarrays with different lengths or shapes) is deprecated. If you meant to do this, you must specify 'dtype=object' when creating the ndarray\n",
            "  bboxes = np.array(bboxes)\n",
            "./utils/dataloader.py:156: VisibleDeprecationWarning: Creating an ndarray from ragged nested sequences (which is a list-or-tuple of lists-or-tuples-or ndarrays with different lengths or shapes) is deprecated. If you meant to do this, you must specify 'dtype=object' when creating the ndarray\n",
            "  bboxes = np.array(bboxes)\n",
            "Epoch 2/50: 100% 24/24 [00:13<00:00,  1.75it/s, total_loss=0.779]\n",
            "Finish Validation\n",
            "Epoch:2/50\n",
            "train Loss: 0.8918 || Val Loss: 0.7479 \n",
            "Saving state, iter: 2\n",
            "Epoch 3/50:   0% 0/57 [00:00<?, ?it/s<class 'dict'>]./utils/dataloader.py:156: VisibleDeprecationWarning: Creating an ndarray from ragged nested sequences (which is a list-or-tuple of lists-or-tuples-or ndarrays with different lengths or shapes) is deprecated. If you meant to do this, you must specify 'dtype=object' when creating the ndarray\n",
            "  bboxes = np.array(bboxes)\n",
            "./utils/dataloader.py:156: VisibleDeprecationWarning: Creating an ndarray from ragged nested sequences (which is a list-or-tuple of lists-or-tuples-or ndarrays with different lengths or shapes) is deprecated. If you meant to do this, you must specify 'dtype=object' when creating the ndarray\n",
            "  bboxes = np.array(bboxes)\n",
            "./utils/dataloader.py:156: VisibleDeprecationWarning: Creating an ndarray from ragged nested sequences (which is a list-or-tuple of lists-or-tuples-or ndarrays with different lengths or shapes) is deprecated. If you meant to do this, you must specify 'dtype=object' when creating the ndarray\n",
            "  bboxes = np.array(bboxes)\n",
            "./utils/dataloader.py:156: VisibleDeprecationWarning: Creating an ndarray from ragged nested sequences (which is a list-or-tuple of lists-or-tuples-or ndarrays with different lengths or shapes) is deprecated. If you meant to do this, you must specify 'dtype=object' when creating the ndarray\n",
            "  bboxes = np.array(bboxes)\n",
            "Epoch 3/50: 100% 57/57 [01:15<00:00,  1.32s/it, lr=1e-5, top1_acc=<__main__.AverageMeter object at 0x7fd6ac176590>, total_loss=0.866]\n",
            "Start Validation\n",
            "Epoch 3/50:   0% 0/24 [00:00<?, ?it/s<class 'dict'>]./utils/dataloader.py:156: VisibleDeprecationWarning: Creating an ndarray from ragged nested sequences (which is a list-or-tuple of lists-or-tuples-or ndarrays with different lengths or shapes) is deprecated. If you meant to do this, you must specify 'dtype=object' when creating the ndarray\n",
            "  bboxes = np.array(bboxes)\n",
            "./utils/dataloader.py:156: VisibleDeprecationWarning: Creating an ndarray from ragged nested sequences (which is a list-or-tuple of lists-or-tuples-or ndarrays with different lengths or shapes) is deprecated. If you meant to do this, you must specify 'dtype=object' when creating the ndarray\n",
            "  bboxes = np.array(bboxes)\n",
            "./utils/dataloader.py:156: VisibleDeprecationWarning: Creating an ndarray from ragged nested sequences (which is a list-or-tuple of lists-or-tuples-or ndarrays with different lengths or shapes) is deprecated. If you meant to do this, you must specify 'dtype=object' when creating the ndarray\n",
            "  bboxes = np.array(bboxes)\n",
            "./utils/dataloader.py:156: VisibleDeprecationWarning: Creating an ndarray from ragged nested sequences (which is a list-or-tuple of lists-or-tuples-or ndarrays with different lengths or shapes) is deprecated. If you meant to do this, you must specify 'dtype=object' when creating the ndarray\n",
            "  bboxes = np.array(bboxes)\n",
            "Epoch 3/50: 100% 24/24 [00:13<00:00,  1.76it/s, total_loss=0.693]\n",
            "Finish Validation\n",
            "Epoch:3/50\n",
            "train Loss: 0.8510 || Val Loss: 0.6651 \n",
            "Saving state, iter: 3\n",
            "Epoch 4/50:   0% 0/57 [00:00<?, ?it/s<class 'dict'>]./utils/dataloader.py:156: VisibleDeprecationWarning: Creating an ndarray from ragged nested sequences (which is a list-or-tuple of lists-or-tuples-or ndarrays with different lengths or shapes) is deprecated. If you meant to do this, you must specify 'dtype=object' when creating the ndarray\n",
            "  bboxes = np.array(bboxes)\n",
            "./utils/dataloader.py:156: VisibleDeprecationWarning: Creating an ndarray from ragged nested sequences (which is a list-or-tuple of lists-or-tuples-or ndarrays with different lengths or shapes) is deprecated. If you meant to do this, you must specify 'dtype=object' when creating the ndarray\n",
            "  bboxes = np.array(bboxes)\n",
            "./utils/dataloader.py:156: VisibleDeprecationWarning: Creating an ndarray from ragged nested sequences (which is a list-or-tuple of lists-or-tuples-or ndarrays with different lengths or shapes) is deprecated. If you meant to do this, you must specify 'dtype=object' when creating the ndarray\n",
            "  bboxes = np.array(bboxes)\n",
            "./utils/dataloader.py:156: VisibleDeprecationWarning: Creating an ndarray from ragged nested sequences (which is a list-or-tuple of lists-or-tuples-or ndarrays with different lengths or shapes) is deprecated. If you meant to do this, you must specify 'dtype=object' when creating the ndarray\n",
            "  bboxes = np.array(bboxes)\n",
            "Epoch 4/50: 100% 57/57 [01:14<00:00,  1.31s/it, lr=1e-5, top1_acc=<__main__.AverageMeter object at 0x7fd6ac18e350>, total_loss=0.847]\n",
            "Start Validation\n",
            "Epoch 4/50:   0% 0/24 [00:00<?, ?it/s<class 'dict'>]./utils/dataloader.py:156: VisibleDeprecationWarning: Creating an ndarray from ragged nested sequences (which is a list-or-tuple of lists-or-tuples-or ndarrays with different lengths or shapes) is deprecated. If you meant to do this, you must specify 'dtype=object' when creating the ndarray\n",
            "  bboxes = np.array(bboxes)\n",
            "./utils/dataloader.py:156: VisibleDeprecationWarning: Creating an ndarray from ragged nested sequences (which is a list-or-tuple of lists-or-tuples-or ndarrays with different lengths or shapes) is deprecated. If you meant to do this, you must specify 'dtype=object' when creating the ndarray\n",
            "  bboxes = np.array(bboxes)\n",
            "./utils/dataloader.py:156: VisibleDeprecationWarning: Creating an ndarray from ragged nested sequences (which is a list-or-tuple of lists-or-tuples-or ndarrays with different lengths or shapes) is deprecated. If you meant to do this, you must specify 'dtype=object' when creating the ndarray\n",
            "  bboxes = np.array(bboxes)\n",
            "./utils/dataloader.py:156: VisibleDeprecationWarning: Creating an ndarray from ragged nested sequences (which is a list-or-tuple of lists-or-tuples-or ndarrays with different lengths or shapes) is deprecated. If you meant to do this, you must specify 'dtype=object' when creating the ndarray\n",
            "  bboxes = np.array(bboxes)\n",
            "Epoch 4/50: 100% 24/24 [00:13<00:00,  1.77it/s, total_loss=0.704]\n",
            "Finish Validation\n",
            "Epoch:4/50\n",
            "train Loss: 0.8328 || Val Loss: 0.6763 \n",
            "Saving state, iter: 4\n",
            "Epoch 5/50:   0% 0/57 [00:00<?, ?it/s<class 'dict'>]./utils/dataloader.py:156: VisibleDeprecationWarning: Creating an ndarray from ragged nested sequences (which is a list-or-tuple of lists-or-tuples-or ndarrays with different lengths or shapes) is deprecated. If you meant to do this, you must specify 'dtype=object' when creating the ndarray\n",
            "  bboxes = np.array(bboxes)\n",
            "./utils/dataloader.py:156: VisibleDeprecationWarning: Creating an ndarray from ragged nested sequences (which is a list-or-tuple of lists-or-tuples-or ndarrays with different lengths or shapes) is deprecated. If you meant to do this, you must specify 'dtype=object' when creating the ndarray\n",
            "  bboxes = np.array(bboxes)\n",
            "./utils/dataloader.py:156: VisibleDeprecationWarning: Creating an ndarray from ragged nested sequences (which is a list-or-tuple of lists-or-tuples-or ndarrays with different lengths or shapes) is deprecated. If you meant to do this, you must specify 'dtype=object' when creating the ndarray\n",
            "  bboxes = np.array(bboxes)\n",
            "./utils/dataloader.py:156: VisibleDeprecationWarning: Creating an ndarray from ragged nested sequences (which is a list-or-tuple of lists-or-tuples-or ndarrays with different lengths or shapes) is deprecated. If you meant to do this, you must specify 'dtype=object' when creating the ndarray\n",
            "  bboxes = np.array(bboxes)\n",
            "Epoch 5/50: 100% 57/57 [01:14<00:00,  1.32s/it, lr=1e-5, top1_acc=<__main__.AverageMeter object at 0x7fd6ac146c50>, total_loss=0.916]\n",
            "Start Validation\n",
            "Epoch 5/50:   0% 0/24 [00:00<?, ?it/s<class 'dict'>]./utils/dataloader.py:156: VisibleDeprecationWarning: Creating an ndarray from ragged nested sequences (which is a list-or-tuple of lists-or-tuples-or ndarrays with different lengths or shapes) is deprecated. If you meant to do this, you must specify 'dtype=object' when creating the ndarray\n",
            "  bboxes = np.array(bboxes)\n",
            "./utils/dataloader.py:156: VisibleDeprecationWarning: Creating an ndarray from ragged nested sequences (which is a list-or-tuple of lists-or-tuples-or ndarrays with different lengths or shapes) is deprecated. If you meant to do this, you must specify 'dtype=object' when creating the ndarray\n",
            "  bboxes = np.array(bboxes)\n",
            "./utils/dataloader.py:156: VisibleDeprecationWarning: Creating an ndarray from ragged nested sequences (which is a list-or-tuple of lists-or-tuples-or ndarrays with different lengths or shapes) is deprecated. If you meant to do this, you must specify 'dtype=object' when creating the ndarray\n",
            "  bboxes = np.array(bboxes)\n",
            "./utils/dataloader.py:156: VisibleDeprecationWarning: Creating an ndarray from ragged nested sequences (which is a list-or-tuple of lists-or-tuples-or ndarrays with different lengths or shapes) is deprecated. If you meant to do this, you must specify 'dtype=object' when creating the ndarray\n",
            "  bboxes = np.array(bboxes)\n",
            "Epoch 5/50: 100% 24/24 [00:13<00:00,  1.76it/s, total_loss=0.707]\n",
            "Finish Validation\n",
            "Epoch:5/50\n",
            "train Loss: 0.9002 || Val Loss: 0.6790 \n",
            "Saving state, iter: 5\n",
            "Epoch 6/50:   0% 0/57 [00:00<?, ?it/s<class 'dict'>]./utils/dataloader.py:156: VisibleDeprecationWarning: Creating an ndarray from ragged nested sequences (which is a list-or-tuple of lists-or-tuples-or ndarrays with different lengths or shapes) is deprecated. If you meant to do this, you must specify 'dtype=object' when creating the ndarray\n",
            "  bboxes = np.array(bboxes)\n",
            "./utils/dataloader.py:156: VisibleDeprecationWarning: Creating an ndarray from ragged nested sequences (which is a list-or-tuple of lists-or-tuples-or ndarrays with different lengths or shapes) is deprecated. If you meant to do this, you must specify 'dtype=object' when creating the ndarray\n",
            "  bboxes = np.array(bboxes)\n",
            "./utils/dataloader.py:156: VisibleDeprecationWarning: Creating an ndarray from ragged nested sequences (which is a list-or-tuple of lists-or-tuples-or ndarrays with different lengths or shapes) is deprecated. If you meant to do this, you must specify 'dtype=object' when creating the ndarray\n",
            "  bboxes = np.array(bboxes)\n",
            "./utils/dataloader.py:156: VisibleDeprecationWarning: Creating an ndarray from ragged nested sequences (which is a list-or-tuple of lists-or-tuples-or ndarrays with different lengths or shapes) is deprecated. If you meant to do this, you must specify 'dtype=object' when creating the ndarray\n",
            "  bboxes = np.array(bboxes)\n",
            "Epoch 6/50: 100% 57/57 [01:15<00:00,  1.32s/it, lr=1e-5, top1_acc=<__main__.AverageMeter object at 0x7fd6ac161710>, total_loss=0.775]\n",
            "Start Validation\n",
            "Epoch 6/50:   0% 0/24 [00:00<?, ?it/s<class 'dict'>]./utils/dataloader.py:156: VisibleDeprecationWarning: Creating an ndarray from ragged nested sequences (which is a list-or-tuple of lists-or-tuples-or ndarrays with different lengths or shapes) is deprecated. If you meant to do this, you must specify 'dtype=object' when creating the ndarray\n",
            "  bboxes = np.array(bboxes)\n",
            "./utils/dataloader.py:156: VisibleDeprecationWarning: Creating an ndarray from ragged nested sequences (which is a list-or-tuple of lists-or-tuples-or ndarrays with different lengths or shapes) is deprecated. If you meant to do this, you must specify 'dtype=object' when creating the ndarray\n",
            "  bboxes = np.array(bboxes)\n",
            "./utils/dataloader.py:156: VisibleDeprecationWarning: Creating an ndarray from ragged nested sequences (which is a list-or-tuple of lists-or-tuples-or ndarrays with different lengths or shapes) is deprecated. If you meant to do this, you must specify 'dtype=object' when creating the ndarray\n",
            "  bboxes = np.array(bboxes)\n",
            "./utils/dataloader.py:156: VisibleDeprecationWarning: Creating an ndarray from ragged nested sequences (which is a list-or-tuple of lists-or-tuples-or ndarrays with different lengths or shapes) is deprecated. If you meant to do this, you must specify 'dtype=object' when creating the ndarray\n",
            "  bboxes = np.array(bboxes)\n",
            "Epoch 6/50: 100% 24/24 [00:13<00:00,  1.77it/s, total_loss=0.644]\n",
            "Finish Validation\n",
            "Epoch:6/50\n",
            "train Loss: 0.7612 || Val Loss: 0.6182 \n",
            "Saving state, iter: 6\n",
            "Epoch 7/50:   0% 0/57 [00:00<?, ?it/s<class 'dict'>]./utils/dataloader.py:156: VisibleDeprecationWarning: Creating an ndarray from ragged nested sequences (which is a list-or-tuple of lists-or-tuples-or ndarrays with different lengths or shapes) is deprecated. If you meant to do this, you must specify 'dtype=object' when creating the ndarray\n",
            "  bboxes = np.array(bboxes)\n",
            "./utils/dataloader.py:156: VisibleDeprecationWarning: Creating an ndarray from ragged nested sequences (which is a list-or-tuple of lists-or-tuples-or ndarrays with different lengths or shapes) is deprecated. If you meant to do this, you must specify 'dtype=object' when creating the ndarray\n",
            "  bboxes = np.array(bboxes)\n",
            "./utils/dataloader.py:156: VisibleDeprecationWarning: Creating an ndarray from ragged nested sequences (which is a list-or-tuple of lists-or-tuples-or ndarrays with different lengths or shapes) is deprecated. If you meant to do this, you must specify 'dtype=object' when creating the ndarray\n",
            "  bboxes = np.array(bboxes)\n",
            "./utils/dataloader.py:156: VisibleDeprecationWarning: Creating an ndarray from ragged nested sequences (which is a list-or-tuple of lists-or-tuples-or ndarrays with different lengths or shapes) is deprecated. If you meant to do this, you must specify 'dtype=object' when creating the ndarray\n",
            "  bboxes = np.array(bboxes)\n",
            "Epoch 7/50: 100% 57/57 [01:15<00:00,  1.32s/it, lr=1e-5, top1_acc=<__main__.AverageMeter object at 0x7fd6ac1575d0>, total_loss=0.783]\n",
            "Start Validation\n",
            "Epoch 7/50:   0% 0/24 [00:00<?, ?it/s<class 'dict'>]./utils/dataloader.py:156: VisibleDeprecationWarning: Creating an ndarray from ragged nested sequences (which is a list-or-tuple of lists-or-tuples-or ndarrays with different lengths or shapes) is deprecated. If you meant to do this, you must specify 'dtype=object' when creating the ndarray\n",
            "  bboxes = np.array(bboxes)\n",
            "./utils/dataloader.py:156: VisibleDeprecationWarning: Creating an ndarray from ragged nested sequences (which is a list-or-tuple of lists-or-tuples-or ndarrays with different lengths or shapes) is deprecated. If you meant to do this, you must specify 'dtype=object' when creating the ndarray\n",
            "  bboxes = np.array(bboxes)\n",
            "./utils/dataloader.py:156: VisibleDeprecationWarning: Creating an ndarray from ragged nested sequences (which is a list-or-tuple of lists-or-tuples-or ndarrays with different lengths or shapes) is deprecated. If you meant to do this, you must specify 'dtype=object' when creating the ndarray\n",
            "  bboxes = np.array(bboxes)\n",
            "./utils/dataloader.py:156: VisibleDeprecationWarning: Creating an ndarray from ragged nested sequences (which is a list-or-tuple of lists-or-tuples-or ndarrays with different lengths or shapes) is deprecated. If you meant to do this, you must specify 'dtype=object' when creating the ndarray\n",
            "  bboxes = np.array(bboxes)\n",
            "Epoch 7/50: 100% 24/24 [00:13<00:00,  1.79it/s, total_loss=0.657]\n",
            "Finish Validation\n",
            "Epoch:7/50\n",
            "train Loss: 0.7699 || Val Loss: 0.6304 \n",
            "Saving state, iter: 7\n",
            "Epoch 8/50:   0% 0/57 [00:00<?, ?it/s<class 'dict'>]./utils/dataloader.py:156: VisibleDeprecationWarning: Creating an ndarray from ragged nested sequences (which is a list-or-tuple of lists-or-tuples-or ndarrays with different lengths or shapes) is deprecated. If you meant to do this, you must specify 'dtype=object' when creating the ndarray\n",
            "  bboxes = np.array(bboxes)\n",
            "./utils/dataloader.py:156: VisibleDeprecationWarning: Creating an ndarray from ragged nested sequences (which is a list-or-tuple of lists-or-tuples-or ndarrays with different lengths or shapes) is deprecated. If you meant to do this, you must specify 'dtype=object' when creating the ndarray\n",
            "  bboxes = np.array(bboxes)\n",
            "./utils/dataloader.py:156: VisibleDeprecationWarning: Creating an ndarray from ragged nested sequences (which is a list-or-tuple of lists-or-tuples-or ndarrays with different lengths or shapes) is deprecated. If you meant to do this, you must specify 'dtype=object' when creating the ndarray\n",
            "  bboxes = np.array(bboxes)\n",
            "./utils/dataloader.py:156: VisibleDeprecationWarning: Creating an ndarray from ragged nested sequences (which is a list-or-tuple of lists-or-tuples-or ndarrays with different lengths or shapes) is deprecated. If you meant to do this, you must specify 'dtype=object' when creating the ndarray\n",
            "  bboxes = np.array(bboxes)\n",
            "Epoch 8/50: 100% 57/57 [01:15<00:00,  1.32s/it, lr=1e-5, top1_acc=<__main__.AverageMeter object at 0x7fd6ac146c90>, total_loss=0.731]\n",
            "Start Validation\n",
            "Epoch 8/50:   0% 0/24 [00:00<?, ?it/s<class 'dict'>]./utils/dataloader.py:156: VisibleDeprecationWarning: Creating an ndarray from ragged nested sequences (which is a list-or-tuple of lists-or-tuples-or ndarrays with different lengths or shapes) is deprecated. If you meant to do this, you must specify 'dtype=object' when creating the ndarray\n",
            "  bboxes = np.array(bboxes)\n",
            "./utils/dataloader.py:156: VisibleDeprecationWarning: Creating an ndarray from ragged nested sequences (which is a list-or-tuple of lists-or-tuples-or ndarrays with different lengths or shapes) is deprecated. If you meant to do this, you must specify 'dtype=object' when creating the ndarray\n",
            "  bboxes = np.array(bboxes)\n",
            "./utils/dataloader.py:156: VisibleDeprecationWarning: Creating an ndarray from ragged nested sequences (which is a list-or-tuple of lists-or-tuples-or ndarrays with different lengths or shapes) is deprecated. If you meant to do this, you must specify 'dtype=object' when creating the ndarray\n",
            "  bboxes = np.array(bboxes)\n",
            "./utils/dataloader.py:156: VisibleDeprecationWarning: Creating an ndarray from ragged nested sequences (which is a list-or-tuple of lists-or-tuples-or ndarrays with different lengths or shapes) is deprecated. If you meant to do this, you must specify 'dtype=object' when creating the ndarray\n",
            "  bboxes = np.array(bboxes)\n",
            "Epoch 8/50: 100% 24/24 [00:13<00:00,  1.79it/s, total_loss=0.628]\n",
            "Finish Validation\n",
            "Epoch:8/50\n",
            "train Loss: 0.7189 || Val Loss: 0.6026 \n",
            "Saving state, iter: 8\n",
            "Epoch 9/50:   0% 0/57 [00:00<?, ?it/s<class 'dict'>]./utils/dataloader.py:156: VisibleDeprecationWarning: Creating an ndarray from ragged nested sequences (which is a list-or-tuple of lists-or-tuples-or ndarrays with different lengths or shapes) is deprecated. If you meant to do this, you must specify 'dtype=object' when creating the ndarray\n",
            "  bboxes = np.array(bboxes)\n",
            "./utils/dataloader.py:156: VisibleDeprecationWarning: Creating an ndarray from ragged nested sequences (which is a list-or-tuple of lists-or-tuples-or ndarrays with different lengths or shapes) is deprecated. If you meant to do this, you must specify 'dtype=object' when creating the ndarray\n",
            "  bboxes = np.array(bboxes)\n",
            "./utils/dataloader.py:156: VisibleDeprecationWarning: Creating an ndarray from ragged nested sequences (which is a list-or-tuple of lists-or-tuples-or ndarrays with different lengths or shapes) is deprecated. If you meant to do this, you must specify 'dtype=object' when creating the ndarray\n",
            "  bboxes = np.array(bboxes)\n",
            "./utils/dataloader.py:156: VisibleDeprecationWarning: Creating an ndarray from ragged nested sequences (which is a list-or-tuple of lists-or-tuples-or ndarrays with different lengths or shapes) is deprecated. If you meant to do this, you must specify 'dtype=object' when creating the ndarray\n",
            "  bboxes = np.array(bboxes)\n",
            "Epoch 9/50: 100% 57/57 [01:15<00:00,  1.32s/it, lr=1e-5, top1_acc=<__main__.AverageMeter object at 0x7fd6ac12fe50>, total_loss=0.702]\n",
            "Start Validation\n",
            "Epoch 9/50:   0% 0/24 [00:00<?, ?it/s<class 'dict'>]./utils/dataloader.py:156: VisibleDeprecationWarning: Creating an ndarray from ragged nested sequences (which is a list-or-tuple of lists-or-tuples-or ndarrays with different lengths or shapes) is deprecated. If you meant to do this, you must specify 'dtype=object' when creating the ndarray\n",
            "  bboxes = np.array(bboxes)\n",
            "./utils/dataloader.py:156: VisibleDeprecationWarning: Creating an ndarray from ragged nested sequences (which is a list-or-tuple of lists-or-tuples-or ndarrays with different lengths or shapes) is deprecated. If you meant to do this, you must specify 'dtype=object' when creating the ndarray\n",
            "  bboxes = np.array(bboxes)\n",
            "./utils/dataloader.py:156: VisibleDeprecationWarning: Creating an ndarray from ragged nested sequences (which is a list-or-tuple of lists-or-tuples-or ndarrays with different lengths or shapes) is deprecated. If you meant to do this, you must specify 'dtype=object' when creating the ndarray\n",
            "  bboxes = np.array(bboxes)\n",
            "./utils/dataloader.py:156: VisibleDeprecationWarning: Creating an ndarray from ragged nested sequences (which is a list-or-tuple of lists-or-tuples-or ndarrays with different lengths or shapes) is deprecated. If you meant to do this, you must specify 'dtype=object' when creating the ndarray\n",
            "  bboxes = np.array(bboxes)\n",
            "Epoch 9/50: 100% 24/24 [00:13<00:00,  1.77it/s, total_loss=0.594]\n",
            "Finish Validation\n",
            "Epoch:9/50\n",
            "train Loss: 0.6895 || Val Loss: 0.5698 \n",
            "Saving state, iter: 9\n",
            "Epoch 10/50:   0% 0/57 [00:00<?, ?it/s<class 'dict'>]./utils/dataloader.py:156: VisibleDeprecationWarning: Creating an ndarray from ragged nested sequences (which is a list-or-tuple of lists-or-tuples-or ndarrays with different lengths or shapes) is deprecated. If you meant to do this, you must specify 'dtype=object' when creating the ndarray\n",
            "  bboxes = np.array(bboxes)\n",
            "./utils/dataloader.py:156: VisibleDeprecationWarning: Creating an ndarray from ragged nested sequences (which is a list-or-tuple of lists-or-tuples-or ndarrays with different lengths or shapes) is deprecated. If you meant to do this, you must specify 'dtype=object' when creating the ndarray\n",
            "  bboxes = np.array(bboxes)\n",
            "./utils/dataloader.py:156: VisibleDeprecationWarning: Creating an ndarray from ragged nested sequences (which is a list-or-tuple of lists-or-tuples-or ndarrays with different lengths or shapes) is deprecated. If you meant to do this, you must specify 'dtype=object' when creating the ndarray\n",
            "  bboxes = np.array(bboxes)\n",
            "./utils/dataloader.py:156: VisibleDeprecationWarning: Creating an ndarray from ragged nested sequences (which is a list-or-tuple of lists-or-tuples-or ndarrays with different lengths or shapes) is deprecated. If you meant to do this, you must specify 'dtype=object' when creating the ndarray\n",
            "  bboxes = np.array(bboxes)\n",
            "Epoch 10/50: 100% 57/57 [01:14<00:00,  1.31s/it, lr=1e-5, top1_acc=<__main__.AverageMeter object at 0x7fd6ac12f750>, total_loss=0.799]\n",
            "Start Validation\n",
            "Epoch 10/50:   0% 0/24 [00:00<?, ?it/s<class 'dict'>]./utils/dataloader.py:156: VisibleDeprecationWarning: Creating an ndarray from ragged nested sequences (which is a list-or-tuple of lists-or-tuples-or ndarrays with different lengths or shapes) is deprecated. If you meant to do this, you must specify 'dtype=object' when creating the ndarray\n",
            "  bboxes = np.array(bboxes)\n",
            "./utils/dataloader.py:156: VisibleDeprecationWarning: Creating an ndarray from ragged nested sequences (which is a list-or-tuple of lists-or-tuples-or ndarrays with different lengths or shapes) is deprecated. If you meant to do this, you must specify 'dtype=object' when creating the ndarray\n",
            "  bboxes = np.array(bboxes)\n",
            "./utils/dataloader.py:156: VisibleDeprecationWarning: Creating an ndarray from ragged nested sequences (which is a list-or-tuple of lists-or-tuples-or ndarrays with different lengths or shapes) is deprecated. If you meant to do this, you must specify 'dtype=object' when creating the ndarray\n",
            "  bboxes = np.array(bboxes)\n",
            "./utils/dataloader.py:156: VisibleDeprecationWarning: Creating an ndarray from ragged nested sequences (which is a list-or-tuple of lists-or-tuples-or ndarrays with different lengths or shapes) is deprecated. If you meant to do this, you must specify 'dtype=object' when creating the ndarray\n",
            "  bboxes = np.array(bboxes)\n",
            "Epoch 10/50: 100% 24/24 [00:13<00:00,  1.77it/s, total_loss=0.634]\n",
            "Finish Validation\n",
            "Epoch:10/50\n",
            "train Loss: 0.7848 || Val Loss: 0.6084 \n",
            "Saving state, iter: 10\n",
            "Epoch 11/50:   0% 0/57 [00:00<?, ?it/s<class 'dict'>]./utils/dataloader.py:156: VisibleDeprecationWarning: Creating an ndarray from ragged nested sequences (which is a list-or-tuple of lists-or-tuples-or ndarrays with different lengths or shapes) is deprecated. If you meant to do this, you must specify 'dtype=object' when creating the ndarray\n",
            "  bboxes = np.array(bboxes)\n",
            "./utils/dataloader.py:156: VisibleDeprecationWarning: Creating an ndarray from ragged nested sequences (which is a list-or-tuple of lists-or-tuples-or ndarrays with different lengths or shapes) is deprecated. If you meant to do this, you must specify 'dtype=object' when creating the ndarray\n",
            "  bboxes = np.array(bboxes)\n",
            "./utils/dataloader.py:156: VisibleDeprecationWarning: Creating an ndarray from ragged nested sequences (which is a list-or-tuple of lists-or-tuples-or ndarrays with different lengths or shapes) is deprecated. If you meant to do this, you must specify 'dtype=object' when creating the ndarray\n",
            "  bboxes = np.array(bboxes)\n",
            "./utils/dataloader.py:156: VisibleDeprecationWarning: Creating an ndarray from ragged nested sequences (which is a list-or-tuple of lists-or-tuples-or ndarrays with different lengths or shapes) is deprecated. If you meant to do this, you must specify 'dtype=object' when creating the ndarray\n",
            "  bboxes = np.array(bboxes)\n",
            "Epoch 11/50: 100% 57/57 [01:14<00:00,  1.31s/it, lr=1e-5, top1_acc=<__main__.AverageMeter object at 0x7fd6ac18e650>, total_loss=0.686]\n",
            "Start Validation\n",
            "Epoch 11/50:   0% 0/24 [00:00<?, ?it/s<class 'dict'>]./utils/dataloader.py:156: VisibleDeprecationWarning: Creating an ndarray from ragged nested sequences (which is a list-or-tuple of lists-or-tuples-or ndarrays with different lengths or shapes) is deprecated. If you meant to do this, you must specify 'dtype=object' when creating the ndarray\n",
            "  bboxes = np.array(bboxes)\n",
            "./utils/dataloader.py:156: VisibleDeprecationWarning: Creating an ndarray from ragged nested sequences (which is a list-or-tuple of lists-or-tuples-or ndarrays with different lengths or shapes) is deprecated. If you meant to do this, you must specify 'dtype=object' when creating the ndarray\n",
            "  bboxes = np.array(bboxes)\n",
            "./utils/dataloader.py:156: VisibleDeprecationWarning: Creating an ndarray from ragged nested sequences (which is a list-or-tuple of lists-or-tuples-or ndarrays with different lengths or shapes) is deprecated. If you meant to do this, you must specify 'dtype=object' when creating the ndarray\n",
            "  bboxes = np.array(bboxes)\n",
            "./utils/dataloader.py:156: VisibleDeprecationWarning: Creating an ndarray from ragged nested sequences (which is a list-or-tuple of lists-or-tuples-or ndarrays with different lengths or shapes) is deprecated. If you meant to do this, you must specify 'dtype=object' when creating the ndarray\n",
            "  bboxes = np.array(bboxes)\n",
            "Epoch 11/50: 100% 24/24 [00:13<00:00,  1.79it/s, total_loss=0.619]\n",
            "Finish Validation\n",
            "Epoch:11/50\n",
            "train Loss: 0.6738 || Val Loss: 0.5942 \n",
            "Saving state, iter: 11\n",
            "Epoch 12/50:   0% 0/57 [00:00<?, ?it/s<class 'dict'>]./utils/dataloader.py:156: VisibleDeprecationWarning: Creating an ndarray from ragged nested sequences (which is a list-or-tuple of lists-or-tuples-or ndarrays with different lengths or shapes) is deprecated. If you meant to do this, you must specify 'dtype=object' when creating the ndarray\n",
            "  bboxes = np.array(bboxes)\n",
            "./utils/dataloader.py:156: VisibleDeprecationWarning: Creating an ndarray from ragged nested sequences (which is a list-or-tuple of lists-or-tuples-or ndarrays with different lengths or shapes) is deprecated. If you meant to do this, you must specify 'dtype=object' when creating the ndarray\n",
            "  bboxes = np.array(bboxes)\n",
            "./utils/dataloader.py:156: VisibleDeprecationWarning: Creating an ndarray from ragged nested sequences (which is a list-or-tuple of lists-or-tuples-or ndarrays with different lengths or shapes) is deprecated. If you meant to do this, you must specify 'dtype=object' when creating the ndarray\n",
            "  bboxes = np.array(bboxes)\n",
            "./utils/dataloader.py:156: VisibleDeprecationWarning: Creating an ndarray from ragged nested sequences (which is a list-or-tuple of lists-or-tuples-or ndarrays with different lengths or shapes) is deprecated. If you meant to do this, you must specify 'dtype=object' when creating the ndarray\n",
            "  bboxes = np.array(bboxes)\n",
            "Epoch 12/50: 100% 57/57 [01:14<00:00,  1.31s/it, lr=1e-5, top1_acc=<__main__.AverageMeter object at 0x7fd6ac16c9d0>, total_loss=0.692]\n",
            "Start Validation\n",
            "Epoch 12/50:   0% 0/24 [00:00<?, ?it/s<class 'dict'>]./utils/dataloader.py:156: VisibleDeprecationWarning: Creating an ndarray from ragged nested sequences (which is a list-or-tuple of lists-or-tuples-or ndarrays with different lengths or shapes) is deprecated. If you meant to do this, you must specify 'dtype=object' when creating the ndarray\n",
            "  bboxes = np.array(bboxes)\n",
            "./utils/dataloader.py:156: VisibleDeprecationWarning: Creating an ndarray from ragged nested sequences (which is a list-or-tuple of lists-or-tuples-or ndarrays with different lengths or shapes) is deprecated. If you meant to do this, you must specify 'dtype=object' when creating the ndarray\n",
            "  bboxes = np.array(bboxes)\n",
            "./utils/dataloader.py:156: VisibleDeprecationWarning: Creating an ndarray from ragged nested sequences (which is a list-or-tuple of lists-or-tuples-or ndarrays with different lengths or shapes) is deprecated. If you meant to do this, you must specify 'dtype=object' when creating the ndarray\n",
            "  bboxes = np.array(bboxes)\n",
            "./utils/dataloader.py:156: VisibleDeprecationWarning: Creating an ndarray from ragged nested sequences (which is a list-or-tuple of lists-or-tuples-or ndarrays with different lengths or shapes) is deprecated. If you meant to do this, you must specify 'dtype=object' when creating the ndarray\n",
            "  bboxes = np.array(bboxes)\n",
            "Epoch 12/50: 100% 24/24 [00:13<00:00,  1.79it/s, total_loss=0.599]\n",
            "Finish Validation\n",
            "Epoch:12/50\n",
            "train Loss: 0.6802 || Val Loss: 0.5751 \n",
            "Saving state, iter: 12\n",
            "Epoch    12: reducing learning rate of group 0 to 5.0000e-06.\n",
            "Epoch 13/50:   0% 0/57 [00:00<?, ?it/s<class 'dict'>]./utils/dataloader.py:156: VisibleDeprecationWarning: Creating an ndarray from ragged nested sequences (which is a list-or-tuple of lists-or-tuples-or ndarrays with different lengths or shapes) is deprecated. If you meant to do this, you must specify 'dtype=object' when creating the ndarray\n",
            "  bboxes = np.array(bboxes)\n",
            "./utils/dataloader.py:156: VisibleDeprecationWarning: Creating an ndarray from ragged nested sequences (which is a list-or-tuple of lists-or-tuples-or ndarrays with different lengths or shapes) is deprecated. If you meant to do this, you must specify 'dtype=object' when creating the ndarray\n",
            "  bboxes = np.array(bboxes)\n",
            "./utils/dataloader.py:156: VisibleDeprecationWarning: Creating an ndarray from ragged nested sequences (which is a list-or-tuple of lists-or-tuples-or ndarrays with different lengths or shapes) is deprecated. If you meant to do this, you must specify 'dtype=object' when creating the ndarray\n",
            "  bboxes = np.array(bboxes)\n",
            "./utils/dataloader.py:156: VisibleDeprecationWarning: Creating an ndarray from ragged nested sequences (which is a list-or-tuple of lists-or-tuples-or ndarrays with different lengths or shapes) is deprecated. If you meant to do this, you must specify 'dtype=object' when creating the ndarray\n",
            "  bboxes = np.array(bboxes)\n",
            "Epoch 13/50: 100% 57/57 [01:14<00:00,  1.31s/it, lr=5e-6, top1_acc=<__main__.AverageMeter object at 0x7fd6ac1b9150>, total_loss=0.693]\n",
            "Start Validation\n",
            "Epoch 13/50:   0% 0/24 [00:00<?, ?it/s<class 'dict'>]./utils/dataloader.py:156: VisibleDeprecationWarning: Creating an ndarray from ragged nested sequences (which is a list-or-tuple of lists-or-tuples-or ndarrays with different lengths or shapes) is deprecated. If you meant to do this, you must specify 'dtype=object' when creating the ndarray\n",
            "  bboxes = np.array(bboxes)\n",
            "./utils/dataloader.py:156: VisibleDeprecationWarning: Creating an ndarray from ragged nested sequences (which is a list-or-tuple of lists-or-tuples-or ndarrays with different lengths or shapes) is deprecated. If you meant to do this, you must specify 'dtype=object' when creating the ndarray\n",
            "  bboxes = np.array(bboxes)\n",
            "./utils/dataloader.py:156: VisibleDeprecationWarning: Creating an ndarray from ragged nested sequences (which is a list-or-tuple of lists-or-tuples-or ndarrays with different lengths or shapes) is deprecated. If you meant to do this, you must specify 'dtype=object' when creating the ndarray\n",
            "  bboxes = np.array(bboxes)\n",
            "./utils/dataloader.py:156: VisibleDeprecationWarning: Creating an ndarray from ragged nested sequences (which is a list-or-tuple of lists-or-tuples-or ndarrays with different lengths or shapes) is deprecated. If you meant to do this, you must specify 'dtype=object' when creating the ndarray\n",
            "  bboxes = np.array(bboxes)\n",
            "Epoch 13/50: 100% 24/24 [00:13<00:00,  1.79it/s, total_loss=0.543]\n",
            "Finish Validation\n",
            "Epoch:13/50\n",
            "train Loss: 0.6809 || Val Loss: 0.5217 \n",
            "Saving state, iter: 13\n",
            "Epoch 14/50:   0% 0/57 [00:00<?, ?it/s<class 'dict'>]./utils/dataloader.py:156: VisibleDeprecationWarning: Creating an ndarray from ragged nested sequences (which is a list-or-tuple of lists-or-tuples-or ndarrays with different lengths or shapes) is deprecated. If you meant to do this, you must specify 'dtype=object' when creating the ndarray\n",
            "  bboxes = np.array(bboxes)\n",
            "./utils/dataloader.py:156: VisibleDeprecationWarning: Creating an ndarray from ragged nested sequences (which is a list-or-tuple of lists-or-tuples-or ndarrays with different lengths or shapes) is deprecated. If you meant to do this, you must specify 'dtype=object' when creating the ndarray\n",
            "  bboxes = np.array(bboxes)\n",
            "./utils/dataloader.py:156: VisibleDeprecationWarning: Creating an ndarray from ragged nested sequences (which is a list-or-tuple of lists-or-tuples-or ndarrays with different lengths or shapes) is deprecated. If you meant to do this, you must specify 'dtype=object' when creating the ndarray\n",
            "  bboxes = np.array(bboxes)\n",
            "./utils/dataloader.py:156: VisibleDeprecationWarning: Creating an ndarray from ragged nested sequences (which is a list-or-tuple of lists-or-tuples-or ndarrays with different lengths or shapes) is deprecated. If you meant to do this, you must specify 'dtype=object' when creating the ndarray\n",
            "  bboxes = np.array(bboxes)\n",
            "Epoch 14/50:  61% 35/57 [00:46<00:27,  1.27s/it, lr=5e-6, top1_acc=<__main__.AverageMeter object at 0x7fd6ac161710>, total_loss=0.644]"
          ],
          "name": "stdout"
        }
      ]
    },
    {
      "cell_type": "code",
      "metadata": {
        "id": "Lnftmb6Pe1Bd"
      },
      "source": [
        ""
      ],
      "execution_count": null,
      "outputs": []
    },
    {
      "cell_type": "markdown",
      "metadata": {
        "id": "bztNVwjQkcMf"
      },
      "source": [
        "MAP测试"
      ]
    },
    {
      "cell_type": "code",
      "metadata": {
        "id": "On5jIaTX2kJJ"
      },
      "source": [
        "!python get_gt_txt.py"
      ],
      "execution_count": null,
      "outputs": []
    },
    {
      "cell_type": "code",
      "metadata": {
        "colab": {
          "base_uri": "https://localhost:8080/"
        },
        "id": "zAvsF3sW2l6t",
        "outputId": "3178292b-f793-4874-a428-c85d44649fef"
      },
      "source": [
        "!python get_dr_txt.py"
      ],
      "execution_count": null,
      "outputs": [
        {
          "output_type": "stream",
          "text": [
            "Loading weights into state dict...\n",
            "logs/Epoch49-Total_Loss0.1605-Val_Loss0.1582.pth model, anchors, and classes loaded.\n",
            "  0% 0/281 [00:00<?, ?it/s]/usr/local/lib/python3.7/dist-packages/torch/nn/functional.py:1639: UserWarning: nn.functional.sigmoid is deprecated. Use torch.sigmoid instead.\n",
            "  warnings.warn(\"nn.functional.sigmoid is deprecated. Use torch.sigmoid instead.\")\n",
            "100% 281/281 [02:44<00:00,  1.70it/s]\n",
            "Conversion completed!\n"
          ],
          "name": "stdout"
        }
      ]
    },
    {
      "cell_type": "code",
      "metadata": {
        "colab": {
          "base_uri": "https://localhost:8080/"
        },
        "id": "o_IcpePs2na6",
        "outputId": "c3a4fce2-548c-46e0-abe2-1e9438b6d627"
      },
      "source": [
        "!python get_map.py"
      ],
      "execution_count": null,
      "outputs": [
        {
          "output_type": "stream",
          "text": [
            "65.81% = aircraft AP \t||\tscore_threhold=0.5 : F1=0.67 ; Recall=51.65% ; Precision=95.85%\n",
            "96.94% = oiltank AP \t||\tscore_threhold=0.5 : F1=0.95 ; Recall=95.35% ; Precision=95.52%\n",
            "88.63% = overpass AP \t||\tscore_threhold=0.5 : F1=0.85 ; Recall=89.36% ; Precision=80.77%\n",
            "98.28% = playground AP \t||\tscore_threhold=0.5 : F1=0.96 ; Recall=100.00% ; Precision=92.00%\n",
            "mAP = 87.42%\n",
            "<Figure size 640x480 with 1 Axes>\n"
          ],
          "name": "stdout"
        }
      ]
    },
    {
      "cell_type": "code",
      "metadata": {
        "id": "0MRyTa5l2qxk"
      },
      "source": [
        "!python FPS_test.py"
      ],
      "execution_count": null,
      "outputs": []
    },
    {
      "cell_type": "markdown",
      "metadata": {
        "id": "xAAvnUg020kp"
      },
      "source": [
        "训练可视化"
      ]
    },
    {
      "cell_type": "code",
      "metadata": {
        "id": "c8rrfiAvl3fl"
      },
      "source": [
        "%load_ext tensorboard\r\n",
        "%tensorboard --logdir logs/fit"
      ],
      "execution_count": null,
      "outputs": []
    },
    {
      "cell_type": "code",
      "metadata": {
        "id": "8-0I_JL4l3fm"
      },
      "source": [
        "!kill 196"
      ],
      "execution_count": null,
      "outputs": []
    },
    {
      "cell_type": "code",
      "metadata": {
        "colab": {
          "base_uri": "https://localhost:8080/"
        },
        "id": "xRMVXDprMcea",
        "outputId": "426a7769-6d2d-4c25-efc7-80e3c0f0c5a7"
      },
      "source": [
        "import torch.nn as nn\r\n",
        "import torch \r\n",
        "m = nn.AdaptiveAvgPool2d(1)\r\n",
        "input = torch.randn(1,3,256,256)\r\n",
        "output = m(input)\r\n",
        "output.size()"
      ],
      "execution_count": null,
      "outputs": [
        {
          "output_type": "execute_result",
          "data": {
            "text/plain": [
              "torch.Size([1, 3, 1, 1])"
            ]
          },
          "metadata": {
            "tags": []
          },
          "execution_count": 5
        }
      ]
    },
    {
      "cell_type": "code",
      "metadata": {
        "colab": {
          "base_uri": "https://localhost:8080/"
        },
        "id": "53-tii8EVHlr",
        "outputId": "885f0366-3686-4563-aaa0-dc991c95cd92"
      },
      "source": [
        "import torch \r\n",
        "x = torch.randn(10,3,256,256)\r\n",
        "y = x.view(x.size(0),-1)\r\n",
        "x.size()\r\n",
        "y.size()"
      ],
      "execution_count": null,
      "outputs": [
        {
          "output_type": "execute_result",
          "data": {
            "text/plain": [
              "torch.Size([10, 196608])"
            ]
          },
          "metadata": {
            "tags": []
          },
          "execution_count": 9
        }
      ]
    },
    {
      "cell_type": "code",
      "metadata": {
        "id": "otFCD6M2h_hk"
      },
      "source": [
        "import torch.nn as nn\r\n",
        "import torch \r\n",
        "k_size = 5\r\n",
        "m = nn.Conv1d(1,1,kernel_size = k_size,padding = (k_size - 1)//2 ,bias = False)\r\n",
        "n = nn.Linear(416, 416)\r\n",
        "input = torch.randn(10,416)\r\n",
        "output = n(input)\r\n",
        "output.size()"
      ],
      "execution_count": null,
      "outputs": []
    },
    {
      "cell_type": "code",
      "metadata": {
        "id": "FLj95poLV_NQ"
      },
      "source": [
        ""
      ],
      "execution_count": null,
      "outputs": []
    }
  ]
}